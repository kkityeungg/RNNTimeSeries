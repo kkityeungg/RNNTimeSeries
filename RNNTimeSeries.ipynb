{
 "cells": [
  {
   "cell_type": "code",
   "execution_count": 1,
   "metadata": {},
   "outputs": [
    {
     "name": "stdout",
     "output_type": "stream",
     "text": [
      "           0   1   2     3  4  5  6     7\n",
      "155509  2013   1   7     1  1  1  0  5614\n",
      "118507  2013   1   8     1  1  1  0  4994\n",
      "93609   2013   1  21     1  1  1  0  5394\n",
      "96871   2013   1  22     1  1  1  0  5720\n",
      "95767   2013   1  23     1  1  1  0  5578\n",
      "...      ...  ..  ..   ... .. .. ..   ...\n",
      "235277  2015   7  31  1115  1  1  1  8680\n",
      "213621  2015   8   1  1115  1  1  1  6810\n",
      "270014  2015   8   5  1115  1  1  1  6926\n",
      "213462  2015   9   1  1115  1  1  1  7498\n",
      "209363  2015  12   1  1115  1  1  1  8068\n",
      "\n",
      "[376876 rows x 8 columns]\n",
      "[[0.         0.         0.2        ... 1.         0.         0.14498218]\n",
      " [0.         0.         0.23333333 ... 1.         0.         0.12897061]\n",
      " [0.         0.         0.66666667 ... 1.         0.         0.13930066]\n",
      " ...\n",
      " [0.5        0.81818182 0.76666667 ... 1.         1.         0.1372863 ]\n",
      " [0.5        0.90909091 0.33333333 ... 1.         1.         0.16249161]\n",
      " [0.5        0.90909091 0.4        ... 1.         1.         0.15182584]]\n",
      "[[0.5        0.90909091 0.43333333 ... 1.         1.         0.15807551]\n",
      " [0.5        0.90909091 0.76666667 ... 1.         1.         0.18279015]\n",
      " [0.5        0.90909091 0.8        ... 1.         1.         0.15376272]\n",
      " ...\n",
      " [1.         0.63636364 0.13333333 ... 1.         1.         0.17886473]\n",
      " [1.         0.72727273 0.         ... 1.         1.         0.19363669]\n",
      " [1.         1.         0.         ... 1.         1.         0.20835701]]\n"
     ]
    }
   ],
   "source": [
    "import numpy as np\n",
    "import pandas as pd\n",
    "import matplotlib.pyplot as plt\n",
    "from tensorflow.keras.models import Sequential\n",
    "from tensorflow.keras.layers import Dense\n",
    "from tensorflow.keras.layers import LSTM\n",
    "from tensorflow.keras.layers import Dropout\n",
    "import math\n",
    "import time\n",
    "import matplotlib.pyplot as plt\n",
    "\n",
    "from sklearn import preprocessing\n",
    "from sklearn.preprocessing import MinMaxScaler\n",
    "\n",
    "\n",
    "training_data = pd.read_csv(\"RNN_dataset/Input_Training_Sales.csv\")\n",
    "training_data=training_data[['Year', 'Month', 'Day', 'Store', 'Open', 'Promo', 'Promo2', 'Sales']].values\n",
    "training_data=pd.DataFrame(training_data)\n",
    "training_data = training_data.sort_values([3, 0, 1, 2], ascending = [True, True, True, True])\n",
    "print (training_data)\n",
    "min_max_scalar = MinMaxScaler()\n",
    "x_scaled = min_max_scalar.fit_transform(training_data)\n",
    "training_data = pd.DataFrame(x_scaled)\n",
    "total_size = len(training_data)\n",
    "train_size = math.floor(0.7*total_size)\n",
    "test = training_data.tail(len(training_data)-train_size)\n",
    "training_data = training_data.head(train_size)\n",
    "\n",
    "\n",
    "#training_data.drop(\"Date\", inplace = True, axis = 1)'''\n",
    "training_data = training_data.iloc[:,0:8].values\n",
    "test = test.iloc[:,0:8].values\n",
    "\n",
    "\n",
    "print(training_data)\n",
    "print(test)"
   ]
  },
  {
   "cell_type": "code",
   "execution_count": 2,
   "metadata": {},
   "outputs": [
    {
     "name": "stdout",
     "output_type": "stream",
     "text": [
      "(263807, 5)\n",
      "(263807, 1)\n"
     ]
    }
   ],
   "source": [
    "x_training_data = []\n",
    "y_training_data =[]\n",
    "for i in range(6, len(training_data)):\n",
    "    x_training_data.append(training_data[i-6,3:8])\n",
    "    y_training_data.append(training_data[i,7:8])\n",
    "    \n",
    "x_training_data = np.array(x_training_data)\n",
    "y_training_data = np.array(y_training_data)\n",
    "\n",
    "print(x_training_data.shape)\n",
    "print(y_training_data.shape)"
   ]
  },
  {
   "cell_type": "code",
   "execution_count": 3,
   "metadata": {},
   "outputs": [
    {
     "name": "stdout",
     "output_type": "stream",
     "text": [
      "(263807, 5, 1)\n",
      "(263807, 1, 1)\n"
     ]
    }
   ],
   "source": [
    "x_training_data = np.reshape(x_training_data,(x_training_data.shape[0], x_training_data.shape[1], 1))\n",
    "print(x_training_data.shape)\n",
    "y_training_data=y_training_data.reshape(y_training_data.shape[0], y_training_data.shape[1], 1)\n",
    "print(y_training_data.shape)"
   ]
  },
  {
   "cell_type": "code",
   "execution_count": 11,
   "metadata": {},
   "outputs": [
    {
     "name": "stdout",
     "output_type": "stream",
     "text": [
      "Epoch 1/4\n",
      "263807/263807 [==============================] - 876s 3ms/step - loss: 0.0022\n",
      "Epoch 2/4\n",
      "263807/263807 [==============================] - 858s 3ms/step - loss: 0.0023\n",
      "Epoch 3/4\n",
      "263807/263807 [==============================] - 854s 3ms/step - loss: 0.0023\n",
      "Epoch 4/4\n",
      "263807/263807 [==============================] - 855s 3ms/step - loss: 0.0023\n"
     ]
    }
   ],
   "source": [
    "recurrentNeural = Sequential()\n",
    "recurrentNeural.add(LSTM(units = 5, return_sequences = True, input_shape = (x_training_data.shape[1], 1), activation = 'tanh'))\n",
    "recurrentNeural.add(Dropout(0.2))\n",
    "recurrentNeural.add(LSTM(units = 5, return_sequences = True, activation = 'tanh'))\n",
    "recurrentNeural.add(Dropout(0.2))\n",
    "recurrentNeural.add(LSTM(units = 5, activation = None))\n",
    "recurrentNeural.add(Dropout(0.2))\n",
    "recurrentNeural.add(Dense(units = 1))\n",
    "recurrentNeural.compile(optimizer = 'sgd', loss = 'mean_squared_error')\n",
    "history = recurrentNeural.fit(x_training_data, y_training_data, shuffle = False, epochs = 4, batch_size = 1)"
   ]
  },
  {
   "cell_type": "code",
   "execution_count": 12,
   "metadata": {},
   "outputs": [
    {
     "ename": "KeyError",
     "evalue": "'val_loss'",
     "output_type": "error",
     "traceback": [
      "\u001b[1;31m---------------------------------------------------------------------------\u001b[0m",
      "\u001b[1;31mKeyError\u001b[0m                                  Traceback (most recent call last)",
      "\u001b[1;32m<ipython-input-12-fca2c11eb60a>\u001b[0m in \u001b[0;36m<module>\u001b[1;34m\u001b[0m\n\u001b[0;32m      1\u001b[0m \u001b[0mplt\u001b[0m\u001b[1;33m.\u001b[0m\u001b[0mplot\u001b[0m\u001b[1;33m(\u001b[0m\u001b[0mhistory\u001b[0m\u001b[1;33m.\u001b[0m\u001b[0mhistory\u001b[0m\u001b[1;33m[\u001b[0m\u001b[1;34m'loss'\u001b[0m\u001b[1;33m]\u001b[0m\u001b[1;33m,\u001b[0m \u001b[0mlabel\u001b[0m \u001b[1;33m=\u001b[0m \u001b[1;34m'Training Error'\u001b[0m\u001b[1;33m)\u001b[0m\u001b[1;33m\u001b[0m\u001b[1;33m\u001b[0m\u001b[0m\n\u001b[1;32m----> 2\u001b[1;33m \u001b[0mplt\u001b[0m\u001b[1;33m.\u001b[0m\u001b[0mplot\u001b[0m\u001b[1;33m(\u001b[0m\u001b[0mhistory\u001b[0m\u001b[1;33m.\u001b[0m\u001b[0mhistory\u001b[0m\u001b[1;33m[\u001b[0m\u001b[1;34m'val_loss'\u001b[0m\u001b[1;33m]\u001b[0m\u001b[1;33m,\u001b[0m \u001b[0mlabel\u001b[0m \u001b[1;33m=\u001b[0m \u001b[1;34m'Validation Error'\u001b[0m\u001b[1;33m)\u001b[0m\u001b[1;33m\u001b[0m\u001b[1;33m\u001b[0m\u001b[0m\n\u001b[0m\u001b[0;32m      3\u001b[0m \u001b[0mplt\u001b[0m\u001b[1;33m.\u001b[0m\u001b[0mlegend\u001b[0m\u001b[1;33m(\u001b[0m\u001b[1;33m)\u001b[0m\u001b[1;33m\u001b[0m\u001b[1;33m\u001b[0m\u001b[0m\n",
      "\u001b[1;31mKeyError\u001b[0m: 'val_loss'"
     ]
    },
    {
     "data": {
      "image/png": "[encoded data removed]",
      "text/plain": [
       "<Figure size 432x288 with 1 Axes>"
      ]
     },
     "metadata": {
      "needs_background": "light"
     },
     "output_type": "display_data"
    }
   ],
   "source": [
    "plt.plot(history.history['loss'], label = 'Training Error')\n",
    "plt.plot(history.history['val_loss'], label = 'Validation Error')\n",
    "plt.legend()"
   ]
  },
  {
   "cell_type": "code",
   "execution_count": 13,
   "metadata": {},
   "outputs": [
    {
     "name": "stdout",
     "output_type": "stream",
     "text": [
      "(113056, 5)\n",
      "(113056, 1)\n",
      "(113056, 5, 1)\n"
     ]
    }
   ],
   "source": [
    "x_testing_data = []\n",
    "y_testing_data =[]\n",
    "x_temp_testing_data = []\n",
    "for i in range(7, len(test)):\n",
    "    x_testing_data.append(test[i-7,3:8])\n",
    "    y_testing_data.append(test[i, 7:8])\n",
    "    x_temp_testing_data.append(test[i, 0:7])\n",
    "    \n",
    "    \n",
    "x_testing_data = np.array(x_testing_data)\n",
    "y_testing_data = np.array(y_testing_data)\n",
    "x_temp_testing_data = np.array(x_temp_testing_data)\n",
    "\n",
    "print(x_testing_data.shape)\n",
    "print(y_testing_data.shape)\n",
    "final_x_test_data = np.array(x_testing_data)\n",
    "final_x_test_data = np.reshape(final_x_test_data, (final_x_test_data.shape[0], final_x_test_data.shape[1], 1))\n",
    "final_y_test_data = np.array(y_testing_data)\n",
    "final_y_test_data = np.reshape(final_y_test_data, (final_y_test_data.shape[0], final_y_test_data.shape[1], 1))\n",
    "print(final_x_test_data.shape)"
   ]
  },
  {
   "cell_type": "code",
   "execution_count": 14,
   "metadata": {},
   "outputs": [
    {
     "name": "stdout",
     "output_type": "stream",
     "text": [
      "[[0.5        1.         0.46666667 ... 1.         1.         0.16130094]\n",
      " [0.5        1.         0.5        ... 1.         1.         0.16130543]\n",
      " [0.5        1.         0.53333333 ... 1.         1.         0.16130012]\n",
      " ...\n",
      " [1.         0.63636364 0.13333333 ... 1.         1.         0.16184697]\n",
      " [1.         0.72727273 0.         ... 1.         1.         0.16185462]\n",
      " [1.         1.         0.         ... 1.         1.         0.16184764]]\n",
      "#### Predicted Sales ####\n",
      "             0     1     2       3    4    5    6            7\n",
      "0       2014.0  12.0  15.0   782.0  1.0  1.0  1.0  6245.895088\n",
      "1       2014.0  12.0  16.0   782.0  1.0  1.0  1.0  6246.068766\n",
      "2       2014.0  12.0  17.0   782.0  1.0  1.0  1.0  6245.863353\n",
      "3       2014.0  12.0  18.0   782.0  1.0  1.0  1.0  6245.833349\n",
      "4       2014.0  12.0  19.0   782.0  1.0  1.0  1.0  6246.028375\n",
      "...        ...   ...   ...     ...  ...  ...  ...          ...\n",
      "113051  2015.0   7.0  31.0  1115.0  1.0  1.0  1.0  6266.799321\n",
      "113052  2015.0   8.0   1.0  1115.0  1.0  1.0  1.0  6266.874908\n",
      "113053  2015.0   8.0   5.0  1115.0  1.0  1.0  1.0  6267.038200\n",
      "113054  2015.0   9.0   1.0  1115.0  1.0  1.0  1.0  6267.334780\n",
      "113055  2015.0  12.0   1.0  1115.0  1.0  1.0  1.0  6267.064165\n",
      "\n",
      "[113056 rows x 8 columns]\n",
      "\n",
      "#### Original Sales ####\n",
      "             0     1     2       3    4    5    6       7\n",
      "0       2014.0  12.0  15.0   782.0  1.0  1.0  1.0  9867.0\n",
      "1       2014.0  12.0  16.0   782.0  1.0  1.0  1.0  9113.0\n",
      "2       2014.0  12.0  17.0   782.0  1.0  1.0  1.0  8538.0\n",
      "3       2014.0  12.0  18.0   782.0  1.0  1.0  1.0  9442.0\n",
      "4       2014.0  12.0  19.0   782.0  1.0  1.0  1.0  8505.0\n",
      "...        ...   ...   ...     ...  ...  ...  ...     ...\n",
      "113051  2015.0   7.0  31.0  1115.0  1.0  1.0  1.0  8680.0\n",
      "113052  2015.0   8.0   1.0  1115.0  1.0  1.0  1.0  6810.0\n",
      "113053  2015.0   8.0   5.0  1115.0  1.0  1.0  1.0  6926.0\n",
      "113054  2015.0   9.0   1.0  1115.0  1.0  1.0  1.0  7498.0\n",
      "113055  2015.0  12.0   1.0  1115.0  1.0  1.0  1.0  8068.0\n",
      "\n",
      "[113056 rows x 8 columns]\n"
     ]
    }
   ],
   "source": [
    "predicted_Sales = recurrentNeural.predict(final_x_test_data)\n",
    "outputVal = np.concatenate((x_temp_testing_data, predicted_Sales), axis = 1)\n",
    "print(outputVal)\n",
    "predicted_Sales = min_max_scalar.inverse_transform(outputVal)\n",
    "print('#### Predicted Sales ####')\n",
    "predicted_Sales=pd.DataFrame(predicted_Sales)\n",
    "print(predicted_Sales)\n",
    "\n",
    "orig=np.concatenate((x_temp_testing_data, y_testing_data), axis = 1)\n",
    "orig=min_max_scalar.inverse_transform(orig)\n",
    "print('\\n#### Original Sales ####')\n",
    "orig=pd.DataFrame(orig)\n",
    "print(orig)"
   ]
  },
  {
   "cell_type": "code",
   "execution_count": 15,
   "metadata": {},
   "outputs": [
    {
     "name": "stdout",
     "output_type": "stream",
     "text": [
      "WARNING:tensorflow:Model was constructed with shape (None, 5, 1) for input KerasTensor(type_spec=TensorSpec(shape=(None, 5, 1), dtype=tf.float32, name='lstm_3_input'), name='lstm_3_input', description=\"created by layer 'lstm_3_input'\"), but it was called on an input with incompatible shape (32, 4, 1).\n",
      "[[0.5        0.90909091 0.43333333 ... 1.         1.         0.16127549]\n",
      " [0.5        0.90909091 0.76666667 ... 1.         1.         0.16127549]\n",
      " [0.5        0.90909091 0.8        ... 1.         1.         0.16127549]\n",
      " ...\n",
      " [1.         0.36363636 0.66666667 ... 1.         0.         0.1613096 ]\n",
      " [1.         0.36363636 0.7        ... 1.         0.         0.1613096 ]\n",
      " [1.         0.45454545 0.03333333 ... 1.         0.         0.1613096 ]]\n",
      "#### Predicted Sales ####\n",
      "            0     1     2      3    4    5    6            7\n",
      "0      2014.0  11.0  14.0  782.0  1.0  1.0  1.0  6244.909567\n",
      "1      2014.0  11.0  24.0  782.0  1.0  1.0  1.0  6244.909567\n",
      "2      2014.0  11.0  25.0  782.0  1.0  1.0  1.0  6244.909567\n",
      "3      2014.0  11.0  26.0  782.0  1.0  1.0  1.0  6244.909567\n",
      "4      2014.0  11.0  27.0  782.0  1.0  1.0  1.0  6244.909567\n",
      "...       ...   ...   ...    ...  ...  ...  ...          ...\n",
      "41083  2015.0   5.0  19.0  903.0  1.0  1.0  0.0  6246.230326\n",
      "41084  2015.0   5.0  20.0  903.0  1.0  1.0  0.0  6246.230326\n",
      "41085  2015.0   5.0  21.0  903.0  1.0  1.0  0.0  6246.230326\n",
      "41086  2015.0   5.0  22.0  903.0  1.0  1.0  0.0  6246.230326\n",
      "41087  2015.0   6.0   2.0  903.0  1.0  1.0  0.0  6246.230326\n",
      "\n",
      "[41088 rows x 8 columns]\n"
     ]
    }
   ],
   "source": [
    "to_predict_data = pd.read_csv(\"RNN_dataset/Testing_Sales.csv\")\n",
    "to_predict_data=to_predict_data[['Year', 'Month', 'Day', 'Store', 'Open', 'Promo', 'Promo2', 'Sales']].values\n",
    "to_predict_data=pd.DataFrame(to_predict_data)\n",
    "min_max_scalar2 = MinMaxScaler()\n",
    "to_predict_data = min_max_scalar2.fit_transform(to_predict_data)\n",
    "to_predict_data = pd.DataFrame(to_predict_data)\n",
    "to_predict_data = to_predict_data.iloc[:,0:8].values\n",
    "\n",
    "x_predict_data = []\n",
    "y_predict_data =[]\n",
    "x_temp_predict_data = []\n",
    "for i in range(0, len(to_predict_data)):\n",
    "    x_predict_data.append(test[i,3:7])\n",
    "    y_predict_data.append(test[i, 7:8])\n",
    "    x_temp_predict_data.append(test[i, 0:7])\n",
    "    \n",
    "    \n",
    "    \n",
    "x_predict_data = np.array(x_predict_data)\n",
    "y_predict_data = np.array(y_predict_data)\n",
    "\n",
    "\n",
    "final_x_predict_data = np.array(x_predict_data)\n",
    "final_x_predict_data = np.reshape(final_x_predict_data, (final_x_predict_data.shape[0], final_x_predict_data.shape[1], 1))\n",
    "final_y_predict_data = np.array(y_predict_data)\n",
    "final_y_predict_data = np.reshape(final_y_predict_data, (final_y_predict_data.shape[0], final_y_predict_data.shape[1], 1))\n",
    "\n",
    "\n",
    "\n",
    "predicted_Sales = recurrentNeural.predict(final_x_predict_data)\n",
    "outputVal = np.concatenate((x_temp_predict_data, predicted_Sales), axis = 1)\n",
    "print(outputVal)\n",
    "predicted_Sales = min_max_scalar.inverse_transform(outputVal)\n",
    "print('#### Predicted Sales ####')\n",
    "predicted_Sales=pd.DataFrame(predicted_Sales)\n",
    "print(predicted_Sales)"
   ]
  },
  {
   "cell_type": "code",
   "execution_count": 16,
   "metadata": {},
   "outputs": [],
   "source": [
    "predicted_Sales.to_csv(\"RNN_dataset/outputSales.csv\")"
   ]
  }
 ],
 "metadata": {
  "kernelspec": {
   "display_name": "Python 3",
   "language": "python",
   "name": "python3"
  },
  "language_info": {
   "codemirror_mode": {
    "name": "ipython",
    "version": 3
   },
   "file_extension": ".py",
   "mimetype": "text/x-python",
   "name": "python",
   "nbconvert_exporter": "python",
   "pygments_lexer": "ipython3",
   "version": "3.8.3"
  }
 },
 "nbformat": 4,
 "nbformat_minor": 4
}
